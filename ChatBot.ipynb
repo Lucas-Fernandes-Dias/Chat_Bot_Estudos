{
 "cells": [
  {
   "cell_type": "code",
   "execution_count": 1,
   "id": "754e8355",
   "metadata": {},
   "outputs": [
    {
     "name": "stdout",
     "output_type": "stream",
     "text": [
      "✔ Download and installation successful\n",
      "You can now load the package via spacy.load('en_core_web_sm')\n"
     ]
    }
   ],
   "source": [
    "from chatterbot import ChatBot\n",
    "from chatterbot.trainers import ListTrainer\n",
    "from spacy.cli import download\n",
    "\n",
    "# isso aqui só precisa para corrigir o bug\n",
    "download(\"en_core_web_sm\")\n",
    "\n",
    "class ENGSM:\n",
    "    ISO_639_1 = 'en_core_web_sm'\n",
    "\n"
   ]
  },
  {
   "cell_type": "code",
   "execution_count": 2,
   "id": "3f1415d6",
   "metadata": {},
   "outputs": [
    {
     "name": "stdout",
     "output_type": "stream",
     "text": [
      "List Trainer: [####################] 100%\n"
     ]
    }
   ],
   "source": [
    "chatbot = ChatBot('BotLucas', tagger_language = ENGSM)\n",
    "\n",
    "conversa = [\n",
    "    'Olá, tudo bem?',\n",
    "    'Tudo ótimo, e com você?',\n",
    "    'comigo esta tudo bem sim, obrigado por perguntar. Mas me diga uma coisa, você conhece a linguagem Python?',\n",
    "    'conheço um pouco, inclusive, estou estudando ela agora nesse momento, porquê?',\n",
    "    'é que o mercado esta precisando muito de devs que saibam programar em Python',\n",
    "    'É nada, jura?',\n",
    "    'claro pô, foca nos estudos que em breve vai estar empregado, sucesso!!!'\n",
    "]\n",
    "\n",
    "trainer = ListTrainer(chatbot)\n",
    "trainer.train(conversa)"
   ]
  },
  {
   "cell_type": "code",
   "execution_count": null,
   "id": "2a8ef0db",
   "metadata": {
    "scrolled": true
   },
   "outputs": [
    {
     "name": "stdout",
     "output_type": "stream",
     "text": [
      "Digite uma mensagem para o BotLucas: ola tudo bem\n",
      "Tudo ótimo, e com você?\n",
      "Digite uma mensagem para o BotLucas: comigo esta bem sim, obrigado, mas diga uma coisa voce conhece Python?\n",
      "Tudo ótimo, e com você?\n",
      "Digite uma mensagem para o BotLucas: e nada jura\n",
      "claro pô, foca nos estudos que em breve vai estar empregado, sucesso!!!\n"
     ]
    }
   ],
   "source": [
    "while True:\n",
    "    mensagem = input('Digite uma mensagem para o BotLucas: ')\n",
    "    if mensagem == 'parar':\n",
    "        break\n",
    "    resposta = chatbot.get_response(mensagem)\n",
    "    print(resposta)"
   ]
  },
  {
   "cell_type": "code",
   "execution_count": 12,
   "id": "781238b2",
   "metadata": {},
   "outputs": [],
   "source": [
    "chatbot.storage.drop()"
   ]
  }
 ],
 "metadata": {
  "kernelspec": {
   "display_name": "Python 3",
   "language": "python",
   "name": "python3"
  },
  "language_info": {
   "codemirror_mode": {
    "name": "ipython",
    "version": 3
   },
   "file_extension": ".py",
   "mimetype": "text/x-python",
   "name": "python",
   "nbconvert_exporter": "python",
   "pygments_lexer": "ipython3",
   "version": "3.6.13"
  }
 },
 "nbformat": 4,
 "nbformat_minor": 5
}
