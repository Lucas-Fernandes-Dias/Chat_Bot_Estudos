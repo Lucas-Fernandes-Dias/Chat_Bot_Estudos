{
 "cells": [
  {
   "cell_type": "code",
   "execution_count": null,
   "id": "aec2374c",
   "metadata": {},
   "outputs": [
    {
     "name": "stdout",
     "output_type": "stream",
     "text": [
      "Bot Esfiha Show: Qual seu Nome: Lucas\n",
      "Qual o número do seu celular: 48991590675\n",
      "{'Lucas': 48991590675}\n",
      "Boa Noite !!!\n",
      "<<<<<<<<<<<<<<<<<<<<<<<<<<<<\n",
      "Segue a baixo nosso cardápio.\n",
      ">>>>>>>>>>>>>>>>>>>>>>>>>>>>\n",
      "\n",
      "\n",
      "\n",
      "1 : Carne: Carne Moida com temperos\n",
      "2 : Pizza: Carne e Queijo Tomate e oregano\n",
      "3 : Queijo: Mussarela\n",
      "\n",
      "\n",
      "\n"
     ]
    }
   ],
   "source": [
    "cardapio = ['Carne: Carne Moida com temperos',\n",
    "            'Queijo: Mussarela',\n",
    "            'Pizza: Carne e Queijo Tomate e oregano'            \n",
    "           ]\n",
    "cardapio1 = {'Carne: Carne Moida com temperos',\n",
    "            'Queijo: Mussarela',\n",
    "            'Pizza: Carne e Queijo Tomate e oregano'\n",
    "            }\n",
    "\n",
    "\n",
    "dados = {}\n",
    "pedido = []\n",
    "\n",
    "\n",
    "\n",
    "nome = str(input('Bot Esfiha Show: Qual seu Nome: ')) \n",
    "telefone = int(input('Qual o número do seu celular: '))\n",
    "dados[nome] = telefone\n",
    "\n",
    "print(dados)\n",
    "\n",
    "                     \n",
    "\n",
    "print('Boa Noite !!!')\n",
    "print('<'*28)\n",
    "print('Segue a baixo nosso cardápio.')\n",
    "print('>'*28)\n",
    "print()\n",
    "print()\n",
    "print()\n",
    "\n",
    "\n",
    "for k, v in enumerate(cardapio1):\n",
    "    print(f'{k+1} : {v}')  \n",
    "\n",
    "    \n",
    "print()\n",
    "print()\n",
    "print()\n",
    "    \n",
    "    \n",
    "while True:\n",
    "    \n",
    "    escolha = int(input('Boa noite, qual o seu pedido pra hoje?: '))    \n",
    "    if escolha == 1:\n",
    "        pedido.append(cardapio[escolha-1])\n",
    "        print(f'A sua escolha é {cardapio[escolha-1]}')    \n",
    "    elif escolha == 2:\n",
    "        pedido.append(cardapio[escolha-1:])\n",
    "        print(f' A sua escolha é {cardapio[escolha-1]}')\n",
    "    elif escolha == 3:\n",
    "        pedido.append(cardapio[escolha-1:])\n",
    "        print(f'A sua escolha é {cardapio[escolha-1]}')      \n",
    "    continuar = str(input('Vamos acrescentar mais algum item?: [SIM] ou [NÃO]')).strip().upper()\n",
    "    \n",
    "    if continuar not in 'Ss':\n",
    "        break\n",
    "        \n",
    "print(pedido)\n"
   ]
  },
  {
   "cell_type": "code",
   "execution_count": null,
   "id": "99fa3ff9",
   "metadata": {},
   "outputs": [],
   "source": []
  }
 ],
 "metadata": {
  "kernelspec": {
   "display_name": "Python 3",
   "language": "python",
   "name": "python3"
  },
  "language_info": {
   "codemirror_mode": {
    "name": "ipython",
    "version": 3
   },
   "file_extension": ".py",
   "mimetype": "text/x-python",
   "name": "python",
   "nbconvert_exporter": "python",
   "pygments_lexer": "ipython3",
   "version": "3.6.13"
  }
 },
 "nbformat": 4,
 "nbformat_minor": 5
}
