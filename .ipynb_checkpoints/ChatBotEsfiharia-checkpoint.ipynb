{
 "cells": [
  {
   "cell_type": "code",
   "execution_count": 1,
   "id": "4323d21c",
   "metadata": {},
   "outputs": [],
   "source": [
    "from chatterbot import ChatBot\n",
    "from chatterbot.trainers import ListTrainer\n",
    "from spacy.cli import download\n",
    "\n",
    "#isso aqui só precisa para corrigir a bug\n",
    "class ENGSM:\n",
    "    ISO_639_1 = 'en_core_web_sm'\n"
   ]
  },
  {
   "cell_type": "code",
   "execution_count": 2,
   "id": "eac444ab",
   "metadata": {},
   "outputs": [
    {
     "name": "stdout",
     "output_type": "stream",
     "text": [
      "List Trainer: [####################] 100%\n"
     ]
    }
   ],
   "source": [
    "chatbot = ChatBot('BotEsfiharia', tagger_language = ENGSM)\n",
    "\n",
    "cardapio = ['Carne: Carne Moida com temperos',\n",
    "           'Queio: Queijo Mussarela',\n",
    "           'Pizza: Carne e Queijo Tomate e oregano'\n",
    "           ]\n",
    "conversa = [\n",
    "    'Boa noite',\n",
    "    'Boa noite, vou enviar te o cardápio, só um momento por favor. Escolha pelo número correspondente'\n",
    "    'ok',\n",
    "    '1- Carne: Carne Moida com temperos, 2- Quejo: Quejo Mussarela, 3- Pizza: Carne, Queijo, Tomate e oregano',     \n",
    "]\n",
    "trainer = ListTrainer(chatbot)\n",
    "trainer.train(conversa)\n",
    "\n",
    "    \n",
    "                \n"
   ]
  },
  {
   "cell_type": "code",
   "execution_count": 3,
   "id": "f261e8bd",
   "metadata": {},
   "outputs": [
    {
     "name": "stdout",
     "output_type": "stream",
     "text": [
      "Boa noite, qual o seu pedido pra hoje?: 1\n",
      "A sua escolha é Carne: Carne Moida com temperos\n",
      "Vamos acrescentar mais algum item?: [SIM] ou [NÃO]s\n",
      "Qual o seu pedido?: 2\n",
      " A sua escolha é Queio: Queijo Mussarela\n",
      "Vamos acrescentar mais algum item?: [SIM] ou [NÃO]s\n",
      "Qual o seu pedido?: 3\n",
      "A sua escolha é Pizza: Carne e Queijo Tomate e oregano\n",
      "Vamos acrescentar mais algum item?: [SIM] ou [NÃO]n\n",
      "[['Carne: Carne Moida com temperos', 'Queio: Queijo Mussarela', 'Pizza: Carne e Queijo Tomate e oregano']]\n",
      "O seu pedido ficou assim:\n",
      " ['Carne: Carne Moida com temperos', 'Queio: Queijo Mussarela', 'Pizza: Carne e Queijo Tomate e oregano']\n"
     ]
    }
   ],
   "source": [
    "pedido = []\n",
    "escolha = int(input('Boa noite, qual o seu pedido pra hoje?: '))\n",
    "if escolha == 1:\n",
    "    pedido.append(cardapio[escolha-1:])\n",
    "    print(f'A sua escolha é {cardapio[escolha-1]}')    \n",
    "elif escolha == 2:\n",
    "    pedido.append(cardapio[escolha-1:])\n",
    "    print(f' A sua escolha é {cardapio[escolha-1]}')\n",
    "elif escolha == 3:\n",
    "    pedido.append(cardapio[escolha-1:])\n",
    "    print(f'A sua escolha é {cardapio[escolha-1]}')\n",
    "    \n",
    "    \n",
    "    \n",
    "while True:\n",
    "    continuar = str(input('Vamos acrescentar mais algum item?: [SIM] ou [NÃO]')).strip().upper()\n",
    "    if continuar not in 'Ss':\n",
    "        break\n",
    "    else:\n",
    "        escolha = int(input('Qual o seu pedido?: '))\n",
    "    if escolha == 1:\n",
    "        print(f'A sua escolha é {cardapio[escolha-1]}')\n",
    "    elif escolha == 2:\n",
    "        print(f' A sua escolha é {cardapio[escolha-1]}')\n",
    "    elif escolha == 3:\n",
    "        print(f'A sua escolha é {cardapio[escolha-1]}')\n",
    "        \n",
    "        \n",
    "\n",
    "for p in pedido:\n",
    "    print(f'O seu pedido ficou assim:\\n {p}') \n",
    "    \n",
    "\n",
    "        \n",
    "                  \n",
    "                  "
   ]
  }
 ],
 "metadata": {
  "kernelspec": {
   "display_name": "Python 3",
   "language": "python",
   "name": "python3"
  },
  "language_info": {
   "codemirror_mode": {
    "name": "ipython",
    "version": 3
   },
   "file_extension": ".py",
   "mimetype": "text/x-python",
   "name": "python",
   "nbconvert_exporter": "python",
   "pygments_lexer": "ipython3",
   "version": "3.6.13"
  }
 },
 "nbformat": 4,
 "nbformat_minor": 5
}
