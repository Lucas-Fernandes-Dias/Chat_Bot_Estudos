{
 "cells": [
  {
   "cell_type": "code",
   "execution_count": 1,
   "id": "9ab58d5e",
   "metadata": {
    "ExecuteTime": {
     "end_time": "2022-06-03T13:26:42.990509Z",
     "start_time": "2022-06-03T13:26:26.477526Z"
    }
   },
   "outputs": [
    {
     "name": "stdout",
     "output_type": "stream",
     "text": [
      "Bot Esfiha Show: Qual seu Nome: Lucas\n",
      "Qual o número do seu celular: 48991590675\n",
      "Boa Noite !!!\n",
      "<<<<<<<<<<<<<<<<<<<<<<<<<<<<\n",
      "Segue a baixo nosso cardápio.\n",
      ">>>>>>>>>>>>>>>>>>>>>>>>>>>>\n",
      "\n",
      "\n",
      "1 : Carne: Carne Moida com temperos\n",
      "2 : Pizza: Carne e Queijo Tomate e oregano\n",
      "3 : Queijo: Mussarela\n",
      "\n",
      "\n",
      "Boa noite, qual o seu pedido pra hoje?: 1\n",
      "A sua escolha é Carne: Carne Moida com temperos\n",
      "Vamos acrescentar mais algum item?: [SIM] ou [NÃO]s\n",
      "Boa noite, qual o seu pedido pra hoje?: 2\n",
      " A sua escolha é Queijo: Mussarela\n",
      "Vamos acrescentar mais algum item?: [SIM] ou [NÃO]s\n",
      "Boa noite, qual o seu pedido pra hoje?: 3\n",
      "A sua escolha é Pizza: Carne e Queijo Tomate e oregano\n",
      "Vamos acrescentar mais algum item?: [SIM] ou [NÃO]n\n",
      "\n",
      "O seu pedido ficou assim:\n",
      "\n",
      "Carne: Carne Moida com temperos\n",
      "Queijo: Mussarela\n",
      "Pizza: Carne e Queijo Tomate e oregano\n"
     ]
    }
   ],
   "source": [
    "cardapio = ['Carne: Carne Moida com temperos',\n",
    "            'Queijo: Mussarela',\n",
    "            'Pizza: Carne e Queijo Tomate e oregano'            \n",
    "           ]\n",
    "cardapio1 = {'Carne: Carne Moida com temperos',\n",
    "            'Queijo: Mussarela',\n",
    "            'Pizza: Carne e Queijo Tomate e oregano'\n",
    "            }\n",
    "\n",
    "\n",
    "dados = {}\n",
    "pedido = []\n",
    "\n",
    "\n",
    "\n",
    "nome = str(input('Bot Esfiha Show: Qual seu Nome: ')) \n",
    "telefone = int(input('Qual o número do seu celular: '))\n",
    "\n",
    "if telefone not in dados:\n",
    "    dados[nome] = telefone\n",
    "else:\n",
    "    print(f'Boa noite {nome} seja bem vindo')                     \n",
    "\n",
    "print(f'Boa Noite {nome} seja bem vindo!')\n",
    "print('<'*28)\n",
    "print('Segue a baixo nosso cardápio.')\n",
    "print('>'*28)\n",
    "print()\n",
    "print()\n",
    "\n",
    "for k, v in enumerate(cardapio1):\n",
    "    print(f'{k+1} : {v}')  \n",
    "    \n",
    "print()\n",
    "print()\n",
    "    \n",
    "while True:\n",
    "    \n",
    "    escolha = int(input('Boa noite, qual o seu pedido pra hoje?: '))    \n",
    "    if escolha == 1:\n",
    "        pedido.append(cardapio[escolha-1])\n",
    "        print(f'A sua escolha é {cardapio[escolha-1]}')    \n",
    "    elif escolha == 2:\n",
    "        pedido.append(cardapio[escolha-1])\n",
    "        print(f' A sua escolha é {cardapio[escolha-1]}')\n",
    "    elif escolha == 3:\n",
    "        pedido.append(cardapio[escolha-1])\n",
    "        print(f'A sua escolha é {cardapio[escolha-1]}')      \n",
    "    continuar = str(input('Vamos acrescentar mais algum item?: [SIM] ou [NÃO]')).strip().upper()    \n",
    "    if continuar not in 'Ss':\n",
    "        break\n",
    "        \n",
    "print()\n",
    "print('O seu pedido ficou assim:')\n",
    "print()\n",
    "for p in pedido:\n",
    "    print(p)\n",
    "\n",
    "        \n",
    "                  \n",
    "                  "
   ]
  },
  {
   "cell_type": "code",
   "execution_count": null,
   "id": "5646f1aa",
   "metadata": {},
   "outputs": [],
   "source": []
  }
 ],
 "metadata": {
  "kernelspec": {
   "display_name": "Python 3 (ipykernel)",
   "language": "python",
   "name": "python3"
  },
  "language_info": {
   "codemirror_mode": {
    "name": "ipython",
    "version": 3
   },
   "file_extension": ".py",
   "mimetype": "text/x-python",
   "name": "python",
   "nbconvert_exporter": "python",
   "pygments_lexer": "ipython3",
   "version": "3.9.12"
  },
  "nbTranslate": {
   "displayLangs": [
    "*"
   ],
   "hotkey": "alt-t",
   "langInMainMenu": true,
   "sourceLang": "en",
   "targetLang": "fr",
   "useGoogleTranslate": true
  },
  "toc": {
   "base_numbering": 1,
   "nav_menu": {},
   "number_sections": true,
   "sideBar": true,
   "skip_h1_title": false,
   "title_cell": "Table of Contents",
   "title_sidebar": "Contents",
   "toc_cell": false,
   "toc_position": {},
   "toc_section_display": true,
   "toc_window_display": false
  },
  "varInspector": {
   "cols": {
    "lenName": 16,
    "lenType": 16,
    "lenVar": 40
   },
   "kernels_config": {
    "python": {
     "delete_cmd_postfix": "",
     "delete_cmd_prefix": "del ",
     "library": "var_list.py",
     "varRefreshCmd": "print(var_dic_list())"
    },
    "r": {
     "delete_cmd_postfix": ") ",
     "delete_cmd_prefix": "rm(",
     "library": "var_list.r",
     "varRefreshCmd": "cat(var_dic_list()) "
    }
   },
   "types_to_exclude": [
    "module",
    "function",
    "builtin_function_or_method",
    "instance",
    "_Feature"
   ],
   "window_display": false
  },
  "widgets": {
   "application/vnd.jupyter.widget-state+json": {
    "state": {},
    "version_major": 2,
    "version_minor": 0
   }
  }
 },
 "nbformat": 4,
 "nbformat_minor": 5
}
