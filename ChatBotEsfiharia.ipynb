{
 "cells": [
  {
   "cell_type": "code",
   "execution_count": 1,
   "id": "2a62b53a",
   "metadata": {},
   "outputs": [],
   "source": [
    "from chatterbot import ChatBot\n",
    "from chatterbot.trainers import ListTrainer\n",
    "from spacy.cli import download\n",
    "\n",
    "#isso aqui só precisa para corrigir a bug\n",
    "class ENGSM:\n",
    "    ISO_639_1 = 'en_core_web_sm'\n"
   ]
  },
  {
   "cell_type": "code",
   "execution_count": 1,
   "id": "52615316",
   "metadata": {},
   "outputs": [
    {
     "ename": "NameError",
     "evalue": "name 'ChatBot' is not defined",
     "output_type": "error",
     "traceback": [
      "\u001b[1;31m---------------------------------------------------------------------------\u001b[0m",
      "\u001b[1;31mNameError\u001b[0m                                 Traceback (most recent call last)",
      "Input \u001b[1;32mIn [1]\u001b[0m, in \u001b[0;36m<cell line: 1>\u001b[1;34m()\u001b[0m\n\u001b[1;32m----> 1\u001b[0m chatbot \u001b[38;5;241m=\u001b[39m \u001b[43mChatBot\u001b[49m(\u001b[38;5;124m'\u001b[39m\u001b[38;5;124mBotEsfiharia\u001b[39m\u001b[38;5;124m'\u001b[39m, tagger_language \u001b[38;5;241m=\u001b[39m ENGSM)\n\u001b[0;32m      5\u001b[0m conversa \u001b[38;5;241m=\u001b[39m [\n\u001b[0;32m      6\u001b[0m     \u001b[38;5;124m'\u001b[39m\u001b[38;5;124mBoa noite\u001b[39m\u001b[38;5;124m'\u001b[39m,\n\u001b[0;32m      7\u001b[0m     \u001b[38;5;124m'\u001b[39m\u001b[38;5;124mBoa noite, vou enviar te o cardápio, só um momento por favor. Escolha pelo número correspondente\u001b[39m\u001b[38;5;124m'\u001b[39m\n\u001b[0;32m      8\u001b[0m     \u001b[38;5;124m'\u001b[39m\u001b[38;5;124mok\u001b[39m\u001b[38;5;124m'\u001b[39m,\n\u001b[0;32m      9\u001b[0m     \u001b[38;5;124m'\u001b[39m\u001b[38;5;124mSó mais um instante....\u001b[39m\u001b[38;5;124m'\u001b[39m,     \n\u001b[0;32m     10\u001b[0m ]\n\u001b[0;32m     11\u001b[0m trainer \u001b[38;5;241m=\u001b[39m ListTrainer(chatbot)\n",
      "\u001b[1;31mNameError\u001b[0m: name 'ChatBot' is not defined"
     ]
    }
   ],
   "source": [
    "chatbot = ChatBot('BotEsfiharia', tagger_language = ENGSM)\n",
    "\n",
    "\n",
    "           \n",
    "conversa = [\n",
    "    'Boa noite',\n",
    "    'Boa noite, vou enviar te o cardápio, só um momento por favor. Escolha pelo número correspondente'\n",
    "    'ok',\n",
    "    'Só mais um instante....',     \n",
    "]\n",
    "trainer = ListTrainer(chatbot)\n",
    "trainer.train(conversa)\n",
    "\n",
    "    \n",
    "                \n"
   ]
  },
  {
   "cell_type": "code",
   "execution_count": 3,
   "id": "9ab58d5e",
   "metadata": {},
   "outputs": [
    {
     "ename": "SyntaxError",
     "evalue": "invalid syntax (<ipython-input-3-13c4f31908ef>, line 23)",
     "output_type": "error",
     "traceback": [
      "\u001b[1;36m  File \u001b[1;32m\"<ipython-input-3-13c4f31908ef>\"\u001b[1;36m, line \u001b[1;32m23\u001b[0m\n\u001b[1;33m    print('<'*28)\u001b[0m\n\u001b[1;37m        ^\u001b[0m\n\u001b[1;31mSyntaxError\u001b[0m\u001b[1;31m:\u001b[0m invalid syntax\n"
     ]
    }
   ],
   "source": [
    "cardapio = ['Carne: Carne Moida com temperos',\n",
    "            'Queijo: Mussarela',\n",
    "            'Pizza: Carne e Queijo Tomate e oregano'            \n",
    "           ]\n",
    "cardapio1 = {'Carne: Carne Moida com temperos',\n",
    "            'Queijo: Mussarela',\n",
    "            'Pizza: Carne e Queijo Tomate e oregano'\n",
    "            }\n",
    "\n",
    "nome = []\n",
    "telefone = []\n",
    "pedido = []\n",
    "\n",
    "print('Boa Noite!!!')\n",
    "\n",
    "pergunta_nome = (str(input('Bot Esfiha Show: Qual seu Nome: ')\n",
    "#nome.append(pergunta_nome)\n",
    "#pergunta_telefone = int(input('Qual seu telefone: '))\n",
    "#telefone.append(pergunta_telefone)\n",
    "                     \n",
    "#print(nome, telefone)\n",
    "\n",
    "print('<'*28)\n",
    "print('Segue a baixo nosso cardápio.')\n",
    "print('>'*28)\n",
    "print()\n",
    "print()\n",
    "\n",
    "\n",
    "for k, v in enumerate(cardapio1):\n",
    "    print(f'{k+1} : {v}')  \n",
    "    \n",
    "    \n",
    "while True:\n",
    "    \n",
    "    escolha = int(input('Qual o seu pedido pra hoje?: '))    \n",
    "    if escolha == 1:\n",
    "        pedido.append(cardapio[escolha-1])\n",
    "        print(f'A sua escolha é {cardapio[escolha-1]}')    \n",
    "    elif escolha == 2:\n",
    "        pedido.append(cardapio[escolha-1])\n",
    "        print(f' A sua escolha é {cardapio[escolha-1]}')\n",
    "    elif escolha == 3:\n",
    "        pedido.append(cardapio[escolha-1])\n",
    "        print(f'A sua escolha é {cardapio[escolha-1]}')      \n",
    "    continuar = str(input('Vamos acrescentar mais algum item?: [SIM] ou [NÃO]')).strip().upper()\n",
    "    \n",
    "    if continuar not in 'Ss':\n",
    "        bebida = str(input('Você deseja pedir alguma bebida: '))        \n",
    "        break\n",
    "        \n",
    "print()\n",
    "print('O seu pedido ficou assim:')\n",
    "print()\n",
    "for p in pedido:\n",
    "    print(p)\n",
    "\n",
    "    \n",
    "\n",
    "        \n",
    "                  \n",
    "                  "
   ]
  },
  {
   "cell_type": "code",
   "execution_count": null,
   "id": "5646f1aa",
   "metadata": {},
   "outputs": [],
   "source": []
  }
 ],
 "metadata": {
  "kernelspec": {
   "display_name": "Python 3 (ipykernel)",
   "language": "python",
   "name": "python3"
  },
  "language_info": {
   "codemirror_mode": {
    "name": "ipython",
    "version": 3
   },
   "file_extension": ".py",
   "mimetype": "text/x-python",
   "name": "python",
   "nbconvert_exporter": "python",
   "pygments_lexer": "ipython3",
   "version": "3.9.12"
  },
  "nbTranslate": {
   "displayLangs": [
    "*"
   ],
   "hotkey": "alt-t",
   "langInMainMenu": true,
   "sourceLang": "en",
   "targetLang": "fr",
   "useGoogleTranslate": true
  },
  "toc": {
   "base_numbering": 1,
   "nav_menu": {},
   "number_sections": true,
   "sideBar": true,
   "skip_h1_title": false,
   "title_cell": "Table of Contents",
   "title_sidebar": "Contents",
   "toc_cell": false,
   "toc_position": {},
   "toc_section_display": true,
   "toc_window_display": false
  },
  "varInspector": {
   "cols": {
    "lenName": 16,
    "lenType": 16,
    "lenVar": 40
   },
   "kernels_config": {
    "python": {
     "delete_cmd_postfix": "",
     "delete_cmd_prefix": "del ",
     "library": "var_list.py",
     "varRefreshCmd": "print(var_dic_list())"
    },
    "r": {
     "delete_cmd_postfix": ") ",
     "delete_cmd_prefix": "rm(",
     "library": "var_list.r",
     "varRefreshCmd": "cat(var_dic_list()) "
    }
   },
   "types_to_exclude": [
    "module",
    "function",
    "builtin_function_or_method",
    "instance",
    "_Feature"
   ],
   "window_display": false
  },
  "widgets": {
   "application/vnd.jupyter.widget-state+json": {
    "state": {},
    "version_major": 2,
    "version_minor": 0
   }
  }
 },
 "nbformat": 4,
 "nbformat_minor": 5
}
