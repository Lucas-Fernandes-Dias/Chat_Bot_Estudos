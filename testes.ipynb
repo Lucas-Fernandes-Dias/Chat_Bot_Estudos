{
 "cells": [
  {
   "cell_type": "code",
   "execution_count": 1,
   "id": "aec2374c",
   "metadata": {
    "ExecuteTime": {
     "end_time": "2022-06-02T21:33:18.120897Z",
     "start_time": "2022-06-02T21:31:42.602023Z"
    }
   },
   "outputs": [
    {
     "name": "stdout",
     "output_type": "stream",
     "text": [
      "Bot Esfiha Show: Qual seu Nome: lucas\n",
      "Qual o número do seu celular: 489516164545\n",
      "Boa Noite lucas!!!\n",
      "\u001b[1;31m<\u001b[m\u001b[1;31m<\u001b[m\u001b[1;31m<\u001b[m\u001b[1;31m<\u001b[m\u001b[1;31m<\u001b[m\u001b[1;31m<\u001b[m\u001b[1;31m<\u001b[m\u001b[1;31m<\u001b[m\u001b[1;31m<\u001b[m\u001b[1;31m<\u001b[m\u001b[1;31m<\u001b[m\u001b[1;31m<\u001b[m\u001b[1;31m<\u001b[m\u001b[1;31m<\u001b[m\u001b[1;31m<\u001b[m\u001b[1;31m<\u001b[m\u001b[1;31m<\u001b[m\u001b[1;31m<\u001b[m\u001b[1;31m<\u001b[m\u001b[1;31m<\u001b[m\u001b[1;31m<\u001b[m\u001b[1;31m<\u001b[m\u001b[1;31m<\u001b[m\u001b[1;31m<\u001b[m\u001b[1;31m<\u001b[m\u001b[1;31m<\u001b[m\u001b[1;31m<\u001b[m\u001b[1;31m<\u001b[m\n",
      "Segue a baixo nosso cardápio.\n",
      "\u001b[1;31m<\u001b[m\u001b[1;31m<\u001b[m\u001b[1;31m<\u001b[m\u001b[1;31m<\u001b[m\u001b[1;31m<\u001b[m\u001b[1;31m<\u001b[m\u001b[1;31m<\u001b[m\u001b[1;31m<\u001b[m\u001b[1;31m<\u001b[m\u001b[1;31m<\u001b[m\u001b[1;31m<\u001b[m\u001b[1;31m<\u001b[m\u001b[1;31m<\u001b[m\u001b[1;31m<\u001b[m\u001b[1;31m<\u001b[m\u001b[1;31m<\u001b[m\u001b[1;31m<\u001b[m\u001b[1;31m<\u001b[m\u001b[1;31m<\u001b[m\u001b[1;31m<\u001b[m\u001b[1;31m<\u001b[m\u001b[1;31m<\u001b[m\u001b[1;31m<\u001b[m\u001b[1;31m<\u001b[m\u001b[1;31m<\u001b[m\u001b[1;31m<\u001b[m\u001b[1;31m<\u001b[m\u001b[1;31m<\u001b[m\n",
      "\n",
      "\n",
      "1 : Carne: Carne Moida com temperos\n",
      "2 : Queijo: Mussarela\n",
      "3 : Pizza: Carne e Queijo Tomate e oregano\n",
      "\n",
      "\n",
      "Boa noite, qual o seu pedido pra hoje?:\n",
      " 1\n",
      "A sua escolha é Carne: Carne Moida com temperos\n",
      "\n",
      "Vamos acrescentar mais algum item?: [SIM] ou [NÃO]\n",
      "s\n",
      "Qual o item deseja incluir em seu pedido?: \n",
      "2\n",
      " A sua escolha é Queijo: Mussarela\n",
      "\n",
      "Vamos acrescentar mais algum item?: [SIM] ou [NÃO]\n",
      "s\n",
      "Qual o item deseja incluir em seu pedido?: \n",
      "3\n",
      "A sua escolha é Pizza: Carne e Queijo Tomate e oregano\n",
      "\n",
      "Vamos acrescentar mais algum item?: [SIM] ou [NÃO]\n",
      "n\n",
      "\n",
      "O seu pedido ficou assim:\n",
      "\n",
      "Carne: Carne Moida com temperos\n",
      "Queijo: Mussarela\n",
      "Pizza: Carne e Queijo Tomate e oregano\n"
     ]
    }
   ],
   "source": [
    "cardapio = ['Carne: Carne Moida com temperos',\n",
    "            'Queijo: Mussarela',\n",
    "            'Pizza: Carne e Queijo Tomate e oregano'            \n",
    "           ]\n",
    "cardapio1 = {'Carne: Carne Moida com temperos',\n",
    "            'Queijo: Mussarela',\n",
    "            'Pizza: Carne e Queijo Tomate e oregano'\n",
    "            }\n",
    "\n",
    "\n",
    "dados = {}\n",
    "pedido = []\n",
    "\n",
    "\n",
    "\n",
    "nome = str(input('Bot Esfiha Show: Qual seu Nome: ')) \n",
    "telefone = int(input('Qual o número do seu celular: '))\n",
    "\n",
    "if telefone not in dados:\n",
    "    dados[nome] = telefone\n",
    "else:\n",
    "    print(f'Boa noite {nome} seja bem vindo')                     \n",
    "\n",
    "print(f'Boa Noite {nome}!!!')\n",
    "print('\\033[1;31m<\\033[m'*28)\n",
    "print('Segue a baixo nosso cardápio.')\n",
    "print('\\033[1;31m<\\033[m'*28)\n",
    "print()\n",
    "print()\n",
    "\n",
    "for k, v in enumerate(cardapio1):\n",
    "    print(f'{k+1} : {v}')  \n",
    "    \n",
    "print()\n",
    "print()\n",
    "\n",
    "escolha = int(input('Boa noite, qual o seu pedido pra hoje?:\\n ')) \n",
    "\n",
    "while True:      \n",
    "    if escolha == 1:\n",
    "        pedido.append(cardapio[escolha-1])\n",
    "        print(f'A sua escolha é {cardapio[escolha-1]}\\n')    \n",
    "    elif escolha == 2:\n",
    "        pedido.append(cardapio[escolha-1])\n",
    "        print(f' A sua escolha é {cardapio[escolha-1]}\\n')\n",
    "    elif escolha == 3:\n",
    "        pedido.append(cardapio[escolha-1])\n",
    "        print(f'A sua escolha é {cardapio[escolha-1]}\\n')      \n",
    "    continuar = str(input('Vamos acrescentar mais algum item?: [SIM] ou [NÃO]\\n')).strip().upper()    \n",
    "    if continuar not in 'Ss':\n",
    "        break\n",
    "    else:\n",
    "        escolha = int(input('Qual o item deseja incluir em seu pedido?: \\n'))\n",
    "        \n",
    "print()\n",
    "print('O seu pedido ficou assim:')\n",
    "print()\n",
    "for p in pedido:\n",
    "    print(p)\n"
   ]
  },
  {
   "cell_type": "code",
   "execution_count": null,
   "id": "99fa3ff9",
   "metadata": {},
   "outputs": [],
   "source": []
  }
 ],
 "metadata": {
  "kernelspec": {
   "display_name": "Python 3 (ipykernel)",
   "language": "python",
   "name": "python3"
  },
  "language_info": {
   "codemirror_mode": {
    "name": "ipython",
    "version": 3
   },
   "file_extension": ".py",
   "mimetype": "text/x-python",
   "name": "python",
   "nbconvert_exporter": "python",
   "pygments_lexer": "ipython3",
   "version": "3.9.12"
  },
  "varInspector": {
   "cols": {
    "lenName": 16,
    "lenType": 16,
    "lenVar": 40
   },
   "kernels_config": {
    "python": {
     "delete_cmd_postfix": "",
     "delete_cmd_prefix": "del ",
     "library": "var_list.py",
     "varRefreshCmd": "print(var_dic_list())"
    },
    "r": {
     "delete_cmd_postfix": ") ",
     "delete_cmd_prefix": "rm(",
     "library": "var_list.r",
     "varRefreshCmd": "cat(var_dic_list()) "
    }
   },
   "types_to_exclude": [
    "module",
    "function",
    "builtin_function_or_method",
    "instance",
    "_Feature"
   ],
   "window_display": false
  }
 },
 "nbformat": 4,
 "nbformat_minor": 5
}
